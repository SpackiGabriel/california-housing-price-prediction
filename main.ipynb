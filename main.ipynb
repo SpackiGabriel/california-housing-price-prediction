{
 "cells": [
  {
   "cell_type": "markdown",
   "metadata": {},
   "source": [
    "## California Housing Dataset Retrieval\n",
    "\n",
    "In this section, we are fetching the California housing dataset using the `fetch_california_housing` function from the `sklearn.datasets` module. This dataset is commonly used for regression analysis and contains data on housing prices in various districts in California.\n",
    "\n",
    "### Dataset Description:\n",
    "The California housing dataset includes the following features:\n",
    "\n",
    "- MedInc: Median income in the block.\n",
    "- HouseAge: Median house age in the block.\n",
    "- AveRooms: Average number of rooms.\n",
    "- AveBedrms: Average number of bedrooms.\n",
    "- Population: Block population.\n",
    "- AveOccup: Average house occupancy.\n",
    "- Latitude: Latitude of the block.\n",
    "- Longitude: Longitude of the block.\n",
    "\n",
    "Let's proceed with fetching the dataset."
   ]
  },
  {
   "cell_type": "code",
   "execution_count": 37,
   "metadata": {},
   "outputs": [],
   "source": [
    "from sklearn.datasets import fetch_california_housing\n",
    "\n",
    "data = fetch_california_housing()"
   ]
  },
  {
   "cell_type": "markdown",
   "metadata": {},
   "source": [
    "## Data Processing: Creating the DataFrame\n",
    "\n",
    "In this section, we are processing the fetched California housing dataset to create a pandas DataFrame for further analysis. We will utilize the pandas library for this task.\n",
    "\n",
    "### Steps:\n",
    "1. Import pandas library (`import pandas as pd`).\n",
    "2. Create a DataFrame from the dataset.\n",
    "3. Assign appropriate column names using the feature names provided in the dataset.\n",
    "4. Add the target variable 'MedHouseVal' to the DataFrame.\n",
    "\n",
    "Let's proceed with the data processing."
   ]
  },
  {
   "cell_type": "code",
   "execution_count": 38,
   "metadata": {},
   "outputs": [],
   "source": [
    "import pandas as pd\n",
    "\n",
    "df = pd.DataFrame(data.data)\n",
    "df.columns = data.feature_names\n",
    "df['MedHouseVal'] = data.target"
   ]
  },
  {
   "cell_type": "markdown",
   "metadata": {},
   "source": [
    "## Displaying Initial Rows of the DataFrame\n",
    "\n",
    "In this section, we are displaying the initial rows of the DataFrame `df` created from the California housing dataset. This will provide us with a preliminary understanding of the dataset's structure and the values it contains.\n",
    "\n",
    "### Purpose:\n",
    "- To visually inspect the first few rows of the DataFrame.\n",
    "- To verify that the data loading and preprocessing steps have been performed correctly.\n",
    "\n",
    "Let's proceed to display the initial rows of the DataFrame."
   ]
  },
  {
   "cell_type": "code",
   "execution_count": 56,
   "metadata": {},
   "outputs": [
    {
     "data": {
      "text/html": [
       "<div>\n",
       "<style scoped>\n",
       "    .dataframe tbody tr th:only-of-type {\n",
       "        vertical-align: middle;\n",
       "    }\n",
       "\n",
       "    .dataframe tbody tr th {\n",
       "        vertical-align: top;\n",
       "    }\n",
       "\n",
       "    .dataframe thead th {\n",
       "        text-align: right;\n",
       "    }\n",
       "</style>\n",
       "<table border=\"1\" class=\"dataframe\">\n",
       "  <thead>\n",
       "    <tr style=\"text-align: right;\">\n",
       "      <th></th>\n",
       "      <th>MedInc</th>\n",
       "      <th>HouseAge</th>\n",
       "      <th>AveRooms</th>\n",
       "      <th>AveBedrms</th>\n",
       "      <th>Population</th>\n",
       "      <th>AveOccup</th>\n",
       "      <th>Latitude</th>\n",
       "      <th>Longitude</th>\n",
       "      <th>MedHouseVal</th>\n",
       "    </tr>\n",
       "  </thead>\n",
       "  <tbody>\n",
       "    <tr>\n",
       "      <th>0</th>\n",
       "      <td>8.3252</td>\n",
       "      <td>41.0</td>\n",
       "      <td>6.984127</td>\n",
       "      <td>1.023810</td>\n",
       "      <td>322.0</td>\n",
       "      <td>2.555556</td>\n",
       "      <td>37.88</td>\n",
       "      <td>-122.23</td>\n",
       "      <td>4.526</td>\n",
       "    </tr>\n",
       "    <tr>\n",
       "      <th>1</th>\n",
       "      <td>8.3014</td>\n",
       "      <td>21.0</td>\n",
       "      <td>6.238137</td>\n",
       "      <td>0.971880</td>\n",
       "      <td>2401.0</td>\n",
       "      <td>2.109842</td>\n",
       "      <td>37.86</td>\n",
       "      <td>-122.22</td>\n",
       "      <td>3.585</td>\n",
       "    </tr>\n",
       "    <tr>\n",
       "      <th>2</th>\n",
       "      <td>7.2574</td>\n",
       "      <td>52.0</td>\n",
       "      <td>8.288136</td>\n",
       "      <td>1.073446</td>\n",
       "      <td>496.0</td>\n",
       "      <td>2.802260</td>\n",
       "      <td>37.85</td>\n",
       "      <td>-122.24</td>\n",
       "      <td>3.521</td>\n",
       "    </tr>\n",
       "    <tr>\n",
       "      <th>3</th>\n",
       "      <td>5.6431</td>\n",
       "      <td>52.0</td>\n",
       "      <td>5.817352</td>\n",
       "      <td>1.073059</td>\n",
       "      <td>558.0</td>\n",
       "      <td>2.547945</td>\n",
       "      <td>37.85</td>\n",
       "      <td>-122.25</td>\n",
       "      <td>3.413</td>\n",
       "    </tr>\n",
       "    <tr>\n",
       "      <th>4</th>\n",
       "      <td>3.8462</td>\n",
       "      <td>52.0</td>\n",
       "      <td>6.281853</td>\n",
       "      <td>1.081081</td>\n",
       "      <td>565.0</td>\n",
       "      <td>2.181467</td>\n",
       "      <td>37.85</td>\n",
       "      <td>-122.25</td>\n",
       "      <td>3.422</td>\n",
       "    </tr>\n",
       "  </tbody>\n",
       "</table>\n",
       "</div>"
      ],
      "text/plain": [
       "   MedInc  HouseAge  AveRooms  AveBedrms  Population  AveOccup  Latitude  \\\n",
       "0  8.3252      41.0  6.984127   1.023810       322.0  2.555556     37.88   \n",
       "1  8.3014      21.0  6.238137   0.971880      2401.0  2.109842     37.86   \n",
       "2  7.2574      52.0  8.288136   1.073446       496.0  2.802260     37.85   \n",
       "3  5.6431      52.0  5.817352   1.073059       558.0  2.547945     37.85   \n",
       "4  3.8462      52.0  6.281853   1.081081       565.0  2.181467     37.85   \n",
       "\n",
       "   Longitude  MedHouseVal  \n",
       "0    -122.23        4.526  \n",
       "1    -122.22        3.585  \n",
       "2    -122.24        3.521  \n",
       "3    -122.25        3.413  \n",
       "4    -122.25        3.422  "
      ]
     },
     "execution_count": 56,
     "metadata": {},
     "output_type": "execute_result"
    }
   ],
   "source": [
    "df.head(5)"
   ]
  },
  {
   "cell_type": "markdown",
   "metadata": {},
   "source": [
    "## Feature and Target Variable Extraction\n",
    "\n",
    "In this section, we are extracting the features and the target variable from the DataFrame `df` created earlier. The features (`X`) represent the independent variables, while the target variable (`Y`) represents the dependent variable.\n",
    "\n",
    "### Purpose:\n",
    "- To separate the features and target variable for model training and evaluation.\n",
    "\n",
    "### Steps:\n",
    "1. Extract features by dropping the 'MedHouseVal' column from the DataFrame.\n",
    "2. Extract the target variable by selecting only the 'MedHouseVal' column.\n",
    "\n",
    "Let's proceed with the extraction process."
   ]
  },
  {
   "cell_type": "code",
   "execution_count": 40,
   "metadata": {},
   "outputs": [],
   "source": [
    "X = df.drop('MedHouseVal', axis=1)\n",
    "Y = df.MedHouseVal"
   ]
  },
  {
   "cell_type": "markdown",
   "metadata": {},
   "source": [
    "## Data Splitting: Train-Test Split\n",
    "\n",
    "In this section, we are splitting the dataset into training and testing sets using the `train_test_split` function from the `sklearn.model_selection` module.\n",
    "\n",
    "### Purpose:\n",
    "- To divide the dataset into two subsets: one for training the model and the other for testing its performance.\n",
    "\n",
    "### Steps:\n",
    "1. Import the `train_test_split` function from the `sklearn.model_selection` module.\n",
    "2. Split the data into training and testing sets, with a specified test size and random state.\n",
    "\n",
    "Let's proceed with splitting the data."
   ]
  },
  {
   "cell_type": "code",
   "execution_count": 41,
   "metadata": {},
   "outputs": [],
   "source": [
    "from sklearn.model_selection import train_test_split\n",
    "\n",
    "X_train, X_test, Y_train, Y_test = train_test_split(X, Y, test_size=0.33, random_state=42)"
   ]
  },
  {
   "cell_type": "markdown",
   "metadata": {},
   "source": [
    "## Model Training: Linear Regression\n",
    "\n",
    "In this section, we are training a Linear Regression model using the training data (`X_train` and `Y_train`). Linear Regression is a commonly used algorithm for regression tasks, especially when there is a linear relationship between the independent and dependent variables.\n",
    "\n",
    "### Purpose:\n",
    "- To create a predictive model that can estimate the target variable based on the features.\n",
    "\n",
    "### Steps:\n",
    "1. Import the `LinearRegression` class from the `sklearn.linear_model` module.\n",
    "2. Create an instance of the Linear Regression model (`regressor`).\n",
    "3. Fit the model to the training data (`X_train` and `Y_train`).\n",
    "\n",
    "Let's proceed with training the Linear Regression model."
   ]
  },
  {
   "cell_type": "code",
   "execution_count": 42,
   "metadata": {},
   "outputs": [],
   "source": [
    "from sklearn.linear_model import LinearRegression\n",
    "\n",
    "regressor = LinearRegression().fit(X_train, Y_train)"
   ]
  },
  {
   "cell_type": "markdown",
   "metadata": {},
   "source": [
    "## Generating Predictions\n",
    "\n",
    "In this section, we are generating predictions (`Y_pred`) using the trained Linear Regression model (`regressor`) on the testing features (`X_test`).\n",
    "\n",
    "### Purpose:\n",
    "- To predict the target variable values based on the features in the testing set.\n",
    "\n",
    "### Steps:\n",
    "- Use the trained model to predict the target variable values for the testing features.\n",
    "\n",
    "Let's proceed with generating predictions."
   ]
  },
  {
   "cell_type": "code",
   "execution_count": 43,
   "metadata": {},
   "outputs": [],
   "source": [
    "Y_pred = regressor.predict(X_test)"
   ]
  },
  {
   "cell_type": "markdown",
   "metadata": {},
   "source": [
    "## Mean Squared Error Calculation\n",
    "\n",
    "In this section, we are calculating the mean squared error (MSE) between the true target variable values (`Y_test`) and the predicted target variable values (`Y_pred`).\n",
    "\n",
    "### Purpose:\n",
    "- To quantify the average squared difference between the predicted and actual values.\n",
    "\n",
    "### Steps:\n",
    "- Use the `mean_squared_error` function from `sklearn.metrics` to calculate the MSE.\n",
    "\n",
    "Let's proceed with the MSE calculation."
   ]
  },
  {
   "cell_type": "code",
   "execution_count": 44,
   "metadata": {},
   "outputs": [
    {
     "data": {
      "text/plain": [
       "0.5369686543372465"
      ]
     },
     "execution_count": 44,
     "metadata": {},
     "output_type": "execute_result"
    }
   ],
   "source": [
    "from sklearn.metrics import mean_squared_error\n",
    "\n",
    "mean_squared_error(Y_test, Y_pred)"
   ]
  },
  {
   "cell_type": "markdown",
   "metadata": {},
   "source": [
    "## Results Visualization\n",
    "\n",
    "In this section, we are defining a function to visualize the predicted vs. actual values of the target variable using a scatter plot.\n",
    "\n",
    "### Purpose:\n",
    "- To visually assess the performance of the regression model.\n",
    "\n",
    "### Function Description:\n",
    "- `plot_results(Y_test, Y_pred)`: This function generates a scatter plot comparing the real values (`Y_test`) with the predicted values (`Y_pred`).\n",
    "\n",
    "Let's proceed with visualizing the results."
   ]
  },
  {
   "cell_type": "code",
   "execution_count": 52,
   "metadata": {},
   "outputs": [],
   "source": [
    "import matplotlib.pyplot as plt\n",
    "\n",
    "def plot_results(Y_test, Y_pred):\n",
    "    plt.figure(figsize=(8, 6))\n",
    "    plt.scatter(Y_test, Y_pred, color='blue')\n",
    "    plt.plot([Y_test.min(), Y_test.max()], [Y_test.min(), Y_test.max()], 'k--', lw=4)\n",
    "    plt.xlabel('Real Values')\n",
    "    plt.ylabel('Predicted Values')\n",
    "    plt.title('California Housing Prices Prediction')\n",
    "    plt.show()"
   ]
  },
  {
   "cell_type": "markdown",
   "metadata": {},
   "source": [
    "## Visualization: Scatter Plot of Predicted vs. Actual Values (Sample)\n",
    "\n",
    "In this section, we are visualizing a sample of predicted vs. actual values of the target variable using a scatter plot.\n",
    "\n",
    "### Purpose:\n",
    "- To visually assess the performance of the regression model on a subset of the testing data.\n",
    "\n",
    "### Steps:\n",
    "- Randomly select a sample of data points from the testing set.\n",
    "- Plot the selected sample comparing the real values (`Y_test`) with the predicted values (`Y_pred`).\n",
    "\n",
    "Let's proceed with visualizing the sample results."
   ]
  },
  {
   "cell_type": "code",
   "execution_count": 55,
   "metadata": {},
   "outputs": [
    {
     "data": {
      "image/png": "[encoded data removed]",
      "text/plain": [
       "<Figure size 800x600 with 1 Axes>"
      ]
     },
     "metadata": {},
     "output_type": "display_data"
    }
   ],
   "source": [
    "import random\n",
    "\n",
    "sample_index = random.sample(range(len(Y_test)), 100)\n",
    "\n",
    "test_sample = Y_test.iloc[sample_index]\n",
    "pred_sample = [Y_pred[i] for i in sample_index]\n",
    "\n",
    "plot_results(test_sample, pred_sample)"
   ]
  }
 ],
 "metadata": {
  "kernelspec": {
   "display_name": "env",
   "language": "python",
   "name": "python3"
  },
  "language_info": {
   "codemirror_mode": {
    "name": "ipython",
    "version": 3
   },
   "file_extension": ".py",
   "mimetype": "text/x-python",
   "name": "python",
   "nbconvert_exporter": "python",
   "pygments_lexer": "ipython3",
   "version": "3.9.18"
  }
 },
 "nbformat": 4,
 "nbformat_minor": 2
}
